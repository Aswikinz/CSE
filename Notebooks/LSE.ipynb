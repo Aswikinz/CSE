{
 "cells": [
  {
   "metadata": {},
   "cell_type": "markdown",
   "source": "# LOLC Securities Limited\n",
   "id": "b338928dc92357f0"
  },
  {
   "metadata": {
    "ExecuteTime": {
     "end_time": "2025-08-13T04:41:41.527828Z",
     "start_time": "2025-08-13T04:41:41.194367Z"
    }
   },
   "cell_type": "code",
   "source": [
    "import numpy as np\n",
    "import pandas as pd"
   ],
   "id": "1d7adeca7b4656c6",
   "outputs": [],
   "execution_count": 1
  },
  {
   "metadata": {},
   "cell_type": "markdown",
   "source": "## Data import",
   "id": "9edf13cc849e4938"
  },
  {
   "metadata": {
    "ExecuteTime": {
     "end_time": "2025-08-13T04:41:45.246960Z",
     "start_time": "2025-08-13T04:41:43.126235Z"
    }
   },
   "cell_type": "code",
   "source": [
    "from pathlib import Path\n",
    "from Notebooks.scripts.excel_utils import read_excel_table\n",
    "\n",
    "# Notebook typically runs from the Notebooks directory; support both root and Notebooks as CWD\n",
    "root = Path.cwd().resolve()\n",
    "if root.name == 'Notebooks':\n",
    "    root = root.parent\n",
    "lse_dir = root / 'Data' / 'LSE'\n",
    "\n",
    "frames = {\n",
    "    p.name: read_excel_table(str(p))\n",
    "    for p in lse_dir.iterdir()\n",
    "    if p.suffix.lower() in {'.xlsx', '.xls'}\n",
    "}\n",
    "\n",
    "# `frames` is a dict: filename -> DataFrame\n"
   ],
   "id": "e77ac9284dcccdf1",
   "outputs": [],
   "execution_count": 2
  },
  {
   "metadata": {
    "ExecuteTime": {
     "end_time": "2025-08-13T04:41:48.066765Z",
     "start_time": "2025-08-13T04:41:48.062211Z"
    }
   },
   "cell_type": "code",
   "source": [
    "system_user = frames['BBO 1 List of System Users.xls']\n",
    "advisor_maintenance_act = frames['BBO 2 Advisor Maintenance activities.xlsx']\n",
    "user_maintenance_act = frames['BBO 3 User Maintenance activities.xlsx']\n",
    "client_details = frames['BBO 4 Client Details Report.xlsx']\n",
    "login_history = frames['BBO 5 Login History.xls']\n",
    "user_management_act = frames['OMS 2 User Management Activities.xlsx']\n",
    "cds_acc_association = frames['OMS 3 CDS Account Association.xlsx']\n",
    "advisor_code_mapping = frames['OMS 4 Advisor Code Mapping.xlsx']\n",
    "password_changes = frames['OMS 5 Password Changes.xlsx']"
   ],
   "id": "7b6ccb6381c37e26",
   "outputs": [],
   "execution_count": 3
  },
  {
   "metadata": {},
   "cell_type": "markdown",
   "source": "## System User Data",
   "id": "922bf399b5e458f2"
  },
  {
   "metadata": {},
   "cell_type": "markdown",
   "source": "Check if all the users given in the dataset are unique and there are no missing values.",
   "id": "a84a53677181b20c"
  },
  {
   "metadata": {
    "ExecuteTime": {
     "end_time": "2025-08-13T04:41:54.836915Z",
     "start_time": "2025-08-13T04:41:54.825677Z"
    }
   },
   "cell_type": "code",
   "source": [
    "login_ids = system_user['Login ID']\n",
    "\n",
    "# Case-insensitive unique count (ignores NA)\n",
    "unique_ci = login_ids.astype('string').str.strip().str.lower().nunique(dropna=True)\n",
    "print(unique_ci)\n",
    "\n",
    "# NA count\n",
    "na_count = login_ids.isna().sum()\n",
    "print(na_count)\n",
    "print(np.shape(system_user))"
   ],
   "id": "7d37005b69cc20a7",
   "outputs": [
    {
     "name": "stdout",
     "output_type": "stream",
     "text": [
      "87\n",
      "0\n",
      "(87, 13)\n"
     ]
    }
   ],
   "execution_count": 4
  },
  {
   "metadata": {
    "ExecuteTime": {
     "end_time": "2025-08-13T04:42:05.491518Z",
     "start_time": "2025-08-13T04:42:05.485962Z"
    }
   },
   "cell_type": "code",
   "source": [
    "#Filter out the inactive users\n",
    "active_users = system_user[system_user['Status'] == 'Active']"
   ],
   "id": "7899b1ac62de4507",
   "outputs": [],
   "execution_count": 5
  },
  {
   "metadata": {
    "ExecuteTime": {
     "end_time": "2025-08-13T04:53:58.774352Z",
     "start_time": "2025-08-13T04:53:58.764819Z"
    }
   },
   "cell_type": "code",
   "source": [
    "date_col = 'Last Password Change Date'  # use your actual column name\n",
    "last_pass = active_users.copy()\n",
    "\n",
    "# Parse dates\n",
    "last_pass[date_col] = pd.to_datetime(last_pass[date_col], errors='coerce')\n",
    "\n",
    "today = pd.Timestamp.today().normalize()\n",
    "age_days = (today - last_pass[date_col]).dt.days\n",
    "\n",
    "# Buckets: <= 6 months, 6–12 months, > 12 months\n",
    "bins = [-1, 182, 365, np.inf]\n",
    "labels = [\n",
    "    'Changed in last 6 months',\n",
    "    'No change 6–12 months',\n",
    "    'No change >12 months',\n",
    "]\n",
    "\n",
    "# Categorize\n",
    "last_pass['Password Category'] = pd.cut(age_days, bins=bins, labels=labels)\n",
    "\n",
    "# Allow adding a new category for missing dates, then fill it\n",
    "last_pass['Password Category'] = (\n",
    "    last_pass['Password Category']\n",
    "    .cat.add_categories(['Missing password change date'])\n",
    "    .fillna('Missing password change date')\n",
    ")\n",
    "\n",
    "# Final dataframe with requested columns\n",
    "password_change = last_pass[['Login ID', 'Name', date_col, 'Password Category']]"
   ],
   "id": "a852f236130638d2",
   "outputs": [],
   "execution_count": 10
  }
 ],
 "metadata": {
  "kernelspec": {
   "display_name": "Python 3",
   "language": "python",
   "name": "python3"
  },
  "language_info": {
   "codemirror_mode": {
    "name": "ipython",
    "version": 2
   },
   "file_extension": ".py",
   "mimetype": "text/x-python",
   "name": "python",
   "nbconvert_exporter": "python",
   "pygments_lexer": "ipython2",
   "version": "2.7.6"
  }
 },
 "nbformat": 4,
 "nbformat_minor": 5
}
